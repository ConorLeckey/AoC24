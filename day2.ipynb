{
 "cells": [
  {
   "cell_type": "markdown",
   "metadata": {},
   "source": [
    "# Parse input into lists"
   ]
  },
  {
   "cell_type": "code",
   "execution_count": null,
   "metadata": {},
   "outputs": [
    {
     "name": "stdout",
     "output_type": "stream",
     "text": [
      "670\n"
     ]
    }
   ],
   "source": [
    "with open(\"day2_input.txt\") as file: \n",
    "    lines = [[int(x) for x in line.rstrip().split(' ')] for line in file]\n",
    "lines"
   ]
  },
  {
   "cell_type": "markdown",
   "metadata": {},
   "source": [
    "# Find answer"
   ]
  },
  {
   "cell_type": "code",
   "execution_count": 61,
   "metadata": {},
   "outputs": [
    {
     "data": {
      "text/plain": [
       "670"
      ]
     },
     "execution_count": 61,
     "metadata": {},
     "output_type": "execute_result"
    }
   ],
   "source": [
    "# Part 1:\n",
    "\n",
    "# Cast to differences \n",
    "diffed = [[line[i + 1] - x for i, x in enumerate(line) if i < len(line) - 1] for line in lines]\n",
    "\n",
    "# Sum valid cases\n",
    "sum([1 for line in diffed if set(line) <= {-1, -2, -3} or set(line) <= {1, 2, 3}])\n",
    "\n"
   ]
  },
  {
   "cell_type": "code",
   "execution_count": 65,
   "metadata": {},
   "outputs": [],
   "source": [
    "# Part 2:\n",
    "\n",
    "def is_line_valid(line):\n",
    "    diffed_line = [line[i + 1] - x for i, x in enumerate(line) if i < len(line) - 1] \n",
    "    return 1 if set(diffed_line) <= {-1, -2, -3} or set(diffed_line) <= {1, 2, 3} else 0\n",
    "\n",
    "def is_one_off(line):\n",
    "    for i in range(0, len(line)):\n",
    "        line_copy = line.copy()\n",
    "        line_copy.pop(i)\n",
    "        if is_line_valid(line_copy):\n",
    "            return 1\n",
    "    return 0\n"
   ]
  },
  {
   "cell_type": "code",
   "execution_count": 63,
   "metadata": {},
   "outputs": [
    {
     "data": {
      "text/plain": [
       "670"
      ]
     },
     "execution_count": 63,
     "metadata": {},
     "output_type": "execute_result"
    }
   ],
   "source": [
    "# Part 1\n",
    "sum([is_line_valid(x) for x in lines])"
   ]
  },
  {
   "cell_type": "code",
   "execution_count": 64,
   "metadata": {},
   "outputs": [
    {
     "data": {
      "text/plain": [
       "700"
      ]
     },
     "execution_count": 64,
     "metadata": {},
     "output_type": "execute_result"
    }
   ],
   "source": [
    "# Part 2\n",
    "sum([is_one_off(x) for x in lines])"
   ]
  },
  {
   "cell_type": "markdown",
   "metadata": {},
   "source": []
  }
 ],
 "metadata": {
  "kernelspec": {
   "display_name": "Python 3",
   "language": "python",
   "name": "python3"
  },
  "language_info": {
   "codemirror_mode": {
    "name": "ipython",
    "version": 3
   },
   "file_extension": ".py",
   "mimetype": "text/x-python",
   "name": "python",
   "nbconvert_exporter": "python",
   "pygments_lexer": "ipython3",
   "version": "3.10.15"
  }
 },
 "nbformat": 4,
 "nbformat_minor": 2
}
